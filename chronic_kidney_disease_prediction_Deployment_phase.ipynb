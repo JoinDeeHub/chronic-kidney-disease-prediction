{
 "cells": [
  {
   "cell_type": "markdown",
   "id": "6c664f61",
   "metadata": {},
   "source": [
    "# Summary of Deployment Files\n",
    "\n",
    "| File               | Purpose                              |\n",
    "| ------------------ | ------------------------------------ |\n",
    "| `ckd_rf_model.sav` | Random Forest classification model   |\n",
    "| `ckd_scaler.sav`   | StandardScaler used in preprocessing |\n"
   ]
  },
  {
   "cell_type": "code",
   "execution_count": 5,
   "id": "16b91aa4",
   "metadata": {},
   "outputs": [
    {
     "name": "stdout",
     "output_type": "stream",
     "text": [
      "Prediction: 0\n"
     ]
    }
   ],
   "source": [
    "import pandas as pd\n",
    "import joblib\n",
    "\n",
    "# Load cleaned data\n",
    "df = pd.read_csv(\"chronic_kidney_disease_cleaned.csv\")\n",
    "\n",
    "# Encode categorical variables if any (ensure all are numeric)\n",
    "X = df.drop(\"class\", axis=1)\n",
    "y = df[\"class\"]\n",
    "\n",
    "\n",
    "# Load saved model and scaler\n",
    "model = joblib.load(\"ckd_rf_model.sav\")\n",
    "scaler = joblib.load(\"ckd_scaler.sav\")\n",
    "\n",
    "# Predict with new data\n",
    "import pandas as pd\n",
    "\n",
    "# Provide all 24 features in the correct order as in X.columns\n",
    "# Example values below, replace with your actual input as needed\n",
    "new_data = pd.DataFrame([[\n",
    "    48,                # age\n",
    "    70,                # blood_pressure\n",
    "    1.020,             # specific_gravity\n",
    "    1,                 # albumin\n",
    "    0,                 # sugar\n",
    "    0,                 # red_blood_cells\n",
    "    1,                 # pus_cell\n",
    "    0,                 # pus_cell_clumps\n",
    "    0,                 # bacteria\n",
    "    121,               # blood_glucose_random\n",
    "    36,                # blood_urea\n",
    "    1.2,               # serum_creatinine\n",
    "    138,               # sodium\n",
    "    4.5,               # potassium\n",
    "    15.4,              # haemoglobin\n",
    "    38,                # packed_cell_volume\n",
    "    9800,              # white_blood_cell_count\n",
    "    5.1,               # red_blood_cell_count\n",
    "    1,                 # hypertension\n",
    "    1,                 # diabetes_mellitus\n",
    "    0,                 # coronary_artery_disease\n",
    "    0,                 # appetite\n",
    "    0,                 # peda_edema\n",
    "    0                  # aanemia\n",
    "]], columns=X.columns)\n",
    "\n",
    "new_data_scaled = scaler.transform(new_data)\n",
    "prediction = model.predict(new_data_scaled)\n",
    "print(\"Prediction:\", prediction[0])  # Output: 0 or 1\n"
   ]
  },
  {
   "cell_type": "markdown",
   "id": "ff78f3c4",
   "metadata": {},
   "source": [
    "### Breakdown of What Happened:\n",
    "\n",
    "Your Input Data:\n",
    "\n",
    "You provided a new patient record with these characteristics:\n",
    "\n",
    "Age: 48\n",
    "\n",
    "Blood Pressure: 70\n",
    "\n",
    "Albumin: 1\n",
    "\n",
    "Serum Creatinine: 1.2\n",
    "\n",
    "Diabetes Mellitus: 1 (Yes)\n",
    "\n",
    "Hypertension: 1 (Yes)\n",
    "\n",
    "and other values for 24 features...\n",
    "\n",
    "\n",
    "Model Prediction:\n",
    "\n",
    "print(\"Prediction:\", prediction[0])\n",
    "# Output: 0\n",
    "\n",
    "\n",
    "This means:\n",
    "\n",
    "🔵 Prediction = 0 → Not CKD (No Chronic Kidney Disease)"
   ]
  }
 ],
 "metadata": {
  "kernelspec": {
   "display_name": "AI",
   "language": "python",
   "name": "python3"
  },
  "language_info": {
   "codemirror_mode": {
    "name": "ipython",
    "version": 3
   },
   "file_extension": ".py",
   "mimetype": "text/x-python",
   "name": "python",
   "nbconvert_exporter": "python",
   "pygments_lexer": "ipython3",
   "version": "3.13.2"
  }
 },
 "nbformat": 4,
 "nbformat_minor": 5
}
